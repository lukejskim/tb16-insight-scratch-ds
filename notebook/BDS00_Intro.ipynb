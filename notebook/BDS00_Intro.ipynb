{
 "cells": [
  {
   "cell_type": "markdown",
   "metadata": {
    "collapsed": true
   },
   "source": [
    "# Industry 4.0 의 중심, BigData"
   ]
  },
  {
   "cell_type": "markdown",
   "metadata": {
    "collapsed": true
   },
   "source": [
    "<div align='right'><font size=2 color='gray'>Data Processing Based Python @ <font color='blue'><a href='https://www.facebook.com/jskim.kr'>FB / jskim.kr</a></font>, 김진수</font></div>\n",
    "<hr>"
   ]
  },
  {
   "cell_type": "markdown",
   "metadata": {},
   "source": [
    "## <font color='brown'>Introduction and Overview</font>\n",
    "> <img src='images/intro_scratch_data_science.png'>\n",
    "- 21세기의 가장 섹시한 직업은 데이터 과학자\n",
    "- 확률과 통계, 선형대수에 대한 최소한의 이해 없이 데이터과학을 할 수는 없다.\n",
    "- 어느 정도의 수학적 능력과 프로그래밍 실력만 있다면 누구나 데이터 과학자가 될 자질을 갖고 있는 것이다."
   ]
  },
  {
   "cell_type": "markdown",
   "metadata": {},
   "source": [
    "####  [Source Code](https://github.com/Insight-book/data-science-from-scratch)"
   ]
  },
  {
   "cell_type": "markdown",
   "metadata": {},
   "source": [
    "### Index of Bottom Data Science  \n",
    "<select>\n",
    "  <option value=\"CH01\">CH01. 들어가기                                        </option>\n",
    "  <option value=\"CH02\">CH02. 파이썬 집중강좌                              </option>\n",
    "  <option value=\"CH03\">CH03. 데이터 시각화 - py, ipynb                 </option>\n",
    "  <option value=\"CH04\">CH04. 선형대수 - py, ipynb                        </option>\n",
    "  <option value=\"CH05\">CH05. 통계 - py, ipynb                              </option>\n",
    "  <option value=\"CH06\">CH06. 확률 - py, ipynb                              </option>\n",
    "  <option value=\"CH07\">CH07. 가설과 추론 - py, ipynb                    </option>\n",
    "  <option value=\"CH08\">CH08. 경사 하강법 - py, ipynb                    </option>\n",
    "  <option value=\"CH09\">CH09. 데이터 수집하기 - py, ipynb1, ipynb2  </option>\n",
    "  <option value=\"CH10\">CH10. 데이터 다루기 - py, ipynb                 </option>\n",
    "  <option value=\"CH11\">CH11. 기계학습 - py, ipynb                        </option>\n",
    "  <option value=\"CH12\">CH12. k-근접이웃                                     </option>\n",
    "  <option value=\"CH13\">CH13. 나이브 베이즈                                 </option>\n",
    "  <option value=\"CH14\">CH14. 단순 선형회귀                                 </option>\n",
    "  <option value=\"CH15\">CH15. 다중 선형회귀                                 </option>\n",
    "  <option value=\"CH16\">CH16. 로지스틱 회귀                                 </option>\n",
    "  <option value=\"CH17\">CH17. 의사결정나무                                  </option>\n",
    "  <option value=\"CH18\">CH18. 신경망                                           </option>\n",
    "  <option value=\"CH19\">CH19. 군집화                                           </option>\n",
    "  <option value=\"CH20\">CH20. 자연어 처리                                    </option>\n",
    "  <option value=\"CH21\">CH21. 네트워크 분석                                 </option>\n",
    "  <option value=\"CH22\">CH22. 추천 시스템                                    </option>\n",
    "  <option value=\"CH23\">CH23. 데이터베이스와 SQL                        </option>\n",
    "  <option value=\"CH24\">CH24. 맵리듀스                                        </option>\n",
    "  <option value=\"CH25\">CH25. 본격적으로 데이터 사이언스하기        </option>\n",
    "</select>\n"
   ]
  },
  {
   "cell_type": "markdown",
   "metadata": {},
   "source": [
    "### 학습내용\n",
    "- 기본적인 파이썬 프로그래밍\n",
    "- 선형대수, 통계, 확률 등 데이터 과학 개념과 기술을 뒷받침하는 핵심적인 내용을 학습\n",
    "- 다양한 통계와 확률 이론을 바탕으로 하는 분석 모델과 알고리즘\n",
    "- 머신러닝의 기본 개념을 살펴보고, k-NN, 나이브 베이즈, 선형 및 로지스틱 회귀 분석, 의사결정나무, 신경망 및 클러스터링 모델 등\n",
    "- 추천 시스템, 자연어 처리, 네트워크 분석, 맵리듀스 등의 알고리즘"
   ]
  },
  {
   "cell_type": "code",
   "execution_count": 1,
   "metadata": {},
   "outputs": [],
   "source": [
    "from IPython.display import Image\n",
    "# Image('images/intro_scratch_data_science.png')"
   ]
  },
  {
   "cell_type": "markdown",
   "metadata": {},
   "source": [
    "### 소제목"
   ]
  },
  {
   "cell_type": "markdown",
   "metadata": {},
   "source": [
    "<hr>\n",
    "<marquee><font size=3 color='brown'>The BigpyCraft find the information to design valuable society with Technology & Craft.</font></marquee>\n",
    "<div align='right'><font size=2 color='gray'> &lt; The End &gt; </font></div>"
   ]
  }
 ],
 "metadata": {
  "kernelspec": {
   "display_name": "Python 3",
   "language": "python",
   "name": "python3"
  },
  "language_info": {
   "codemirror_mode": {
    "name": "ipython",
    "version": 3
   },
   "file_extension": ".py",
   "mimetype": "text/x-python",
   "name": "python",
   "nbconvert_exporter": "python",
   "pygments_lexer": "ipython3",
   "version": "3.6.3"
  }
 },
 "nbformat": 4,
 "nbformat_minor": 2
}
